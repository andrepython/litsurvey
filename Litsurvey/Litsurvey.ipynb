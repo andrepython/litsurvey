{
 "cells": [
  {
   "cell_type": "markdown",
   "id": "7d9f3826",
   "metadata": {},
   "source": [
    "# Literatur survey\n",
    "\n",
    "Identify literature using the following keyword string: ‘sickle cell’ or ‘haemoglobin S’ or ‘hemoglobin S’ or ‘Hb S’ in PubMed based on time period from 1950 to 20 October 2009. \n",
    "\n",
    "## 1. PubMed\n",
    "\n",
    "It's expected to have 18336 results in PubMed.\n",
    "\n",
    "### 1.1 Code\n",
    "\n",
    "#### 1.1.1 Export Results in Batches from PubMed\n",
    "\n",
    "Since PubMed can only export a limited number of records at a time, the following code divides the total records into two batches by time and exports them in turn. \n"
   ]
  },
  {
   "cell_type": "code",
   "execution_count": 5,
   "id": "107ef851",
   "metadata": {},
   "outputs": [],
   "source": [
    "from selenium import webdriver   \n",
    "from selenium.webdriver.support.ui import Select\n",
    "from selenium.webdriver.common.action_chains import ActionChains\n",
    "from selenium.webdriver.common.by import By\n",
    "import time\n",
    "find=[]\n",
    "find.append('(\"sickle cell\" OR \"haemoglobin S\" OR \"hemoglobin S\" OR \"Hb S\") AND (1950/01/01:1989/12/31[dp])')\n",
    "find.append('(\"sickle cell\" OR \"haemoglobin S\" OR \"hemoglobin S\" OR \"Hb S\") AND (1990/01/01:2009/10/20[dp])')\n",
    "for i in range(2):\n",
    "    url = 'https://pubmed.ncbi.nlm.nih.gov/?term='+find[i]+'&size=200&page=51'\n",
    "    driver = webdriver.Chrome()\n",
    "    driver.get(url)\n",
    "    driver.maximize_window()\n",
    "    driver.implicitly_wait(10)\n",
    "    driver.implicitly_wait(10)\n",
    "    ActionChains(driver).move_to_element(driver.find_element(By.XPATH,r'//*[@id=\"save-results-panel-trigger\"]')).click().perform()\n",
    "    Select(driver.find_element(By.XPATH,r'//*[@id=\"save-action-selection\"]')).select_by_visible_text(\"All results on this page\")\n",
    "    ActionChains(driver).move_to_element(driver.find_element(By.XPATH,r'//*[@id=\"save-action-format\"]')).click().perform()   \n",
    "    Select(driver.find_element(By.XPATH,r'/html/body/main/div[1]/div/form/div[2]/select')).select_by_visible_text(\"CSV\")\n",
    "    ActionChains(driver).move_to_element(driver.find_element(By.XPATH,r'//*[@id=\"save-action-panel-form\"]/div[3]/button[1]')).click().perform()\n",
    "    time.sleep(20)\n",
    "driver.quit()"
   ]
  },
  {
   "cell_type": "markdown",
   "id": "0649369b",
   "metadata": {},
   "source": [
    "#### 1.1.2 Merge and Process Results\n",
    "\n",
    "The files exported in the previous step need to be merged. After merging, filter out records added after 2009/10/20."
   ]
  },
  {
   "cell_type": "code",
   "execution_count": 7,
   "id": "9c4bdd2e",
   "metadata": {},
   "outputs": [],
   "source": [
    "import pandas as pd\n",
    "import numpy as np\n",
    "\n",
    "#\"csv-sicklecell-set (1).csv\" and \"csv-sicklecell-set (2).csv\" are names of the files exported in the previous step. \n",
    "#Please ensure that they are in the same folder as Python source files.\n",
    "h1 = pd.read_csv(\"csv-sicklecell-set (1).csv\")\n",
    "h2 = pd.read_csv(\"csv-sicklecell-set (2).csv\")\n",
    "\n",
    "#Merge csv files\n",
    "df = pd.concat([h1,h2])\n",
    "df.drop_duplicates()  #Remove duplicate data\n",
    "df.index=range(1,df.shape[0]+1)\n",
    "df.to_csv('concated.csv',encoding = 'utf-8')\n",
    "\n",
    "#Filter out records after 2009/10/20\n",
    "a=[]\n",
    "data=np.array(df)\n",
    "for item in data:\n",
    "    if item[7]<='2009/10/20':\n",
    "        a.append(item)\n",
    "df1=pd.DataFrame(a)\n",
    "df1.index=range(1,df1.shape[0]+1)\n",
    "df1.to_csv('concated-filtered.csv',encoding = 'utf-8')"
   ]
  },
  {
   "cell_type": "markdown",
   "id": "95491df7",
   "metadata": {},
   "source": [
    "### 1.2 Results\n",
    "\n",
    "Exported the results to csv format, the total number of results is as following:\n",
    "\n",
    "![jupyter](./image-20221024162307363.png)\n",
    "\n",
    "The number of records is 18501, which is 212 more than the number of results expected.\n",
    "\n",
    "After 2009/10/20, records may have been added or deleted, causing the number of records to be slightly different than expected. What can be done is to filter out records after 2009/10/20.\n",
    "\n",
    "Filter out records added after 2009/10/20, the number of results is as following:\n",
    "\n",
    "![jupyter](./image-20221024162347927.png)\n",
    "\n",
    "The number of records is 18289, which is 47 less than the number of results expected.\n",
    "\n",
    "I have no idea how to get the number of records deleted. But the adjusted result is definitely not less than 18289, probably less than 18501 and very close to 18336."
   ]
  },
  {
   "cell_type": "code",
   "execution_count": null,
   "id": "17d9e5be",
   "metadata": {},
   "outputs": [],
   "source": []
  }
 ],
 "metadata": {
  "kernelspec": {
   "display_name": "Python 3 (ipykernel)",
   "language": "python",
   "name": "python3"
  },
  "language_info": {
   "codemirror_mode": {
    "name": "ipython",
    "version": 3
   },
   "file_extension": ".py",
   "mimetype": "text/x-python",
   "name": "python",
   "nbconvert_exporter": "python",
   "pygments_lexer": "ipython3",
   "version": "3.9.7"
  }
 },
 "nbformat": 4,
 "nbformat_minor": 5
}
